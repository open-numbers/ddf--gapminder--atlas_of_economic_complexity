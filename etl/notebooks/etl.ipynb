{
 "cells": [
  {
   "cell_type": "markdown",
   "metadata": {},
   "source": [
    "# Descriptions of Source from Harvard\n",
    "\n",
    " \n",
    "For your reference, here are some descriptions for the fields:\n",
    " \n",
    "For a product for a given year:\n",
    "\n",
    "- pci: Product Complexity Index: How complex is this product? Is it relatively rare and produced by other diverse/complex countries? \n",
    "\n",
    "For a country for a given year:\n",
    "\n",
    "- eci: Location Complexity Index: How complex is this country’s economy? Intuitively this is an average of the complexities of the products that a location produces.\n",
    "- coi: Complexity Outlook Index: How well-positioned is this country in the product space? If you are nearby many potential unoccupied complex nodes, you get high COI. Often countries that are located in central / highly connected nodes.\n",
    "\n",
    "For a specific product in a country for a given year: \n",
    "\n",
    "- export_rca: Revealed Comparative Advantage: Does this country export this product more than its “fair share”? i.e. if the word export share of cars is 20% of all exports, and cars compose 40% of your country’s exports, cars have and RCA of 2, i.e. your country exports twice its “fair share” of cars. We say that a country’s produces a product significantly if it has RCA > 1. If a product has RCA <1 for that country, we consider that a potential new product. The feasibility graph you linked us to focuses specifically only on RCA < 1 products.\n",
    "- distance: How far away is this potential product from my country’s current productive capabilities? \n",
    "- cog: Complexity Outlook Gain: How would adding this new product change my complexity outlook? Would it connect me to many new high-complexity nodes?"
   ]
  },
  {
   "cell_type": "markdown",
   "metadata": {},
   "source": [
    "According to the definitions, following indicators should be in this dataset:\n",
    "\n",
    "```\n",
    "- pci        by product, year\n",
    "- eci        by country, year\n",
    "- coi        by country, year\n",
    "- export_rca by product, country, year\n",
    "- distance   by product, country, year\n",
    "- cog        by product, country, year\n",
    "```"
   ]
  },
  {
   "cell_type": "markdown",
   "metadata": {},
   "source": [
    "Note:\n",
    "\n",
    "- HS and SITC are different product classifications. So there should 2 product entity"
   ]
  },
  {
   "cell_type": "code",
   "execution_count": 1,
   "metadata": {},
   "outputs": [],
   "source": [
    "import pandas as pd"
   ]
  },
  {
   "cell_type": "code",
   "execution_count": 2,
   "metadata": {},
   "outputs": [],
   "source": [
    "import os\n",
    "import os.path as osp"
   ]
  },
  {
   "cell_type": "code",
   "execution_count": 14,
   "metadata": {},
   "outputs": [],
   "source": [
    "from ddf_utils.str import format_float_digits\n",
    "from functools import partial"
   ]
  },
  {
   "cell_type": "code",
   "execution_count": 15,
   "metadata": {},
   "outputs": [],
   "source": [
    "ff = partial(format_float_digits, digits=6)"
   ]
  },
  {
   "cell_type": "code",
   "execution_count": null,
   "metadata": {},
   "outputs": [],
   "source": []
  },
  {
   "cell_type": "code",
   "execution_count": null,
   "metadata": {},
   "outputs": [],
   "source": []
  },
  {
   "cell_type": "code",
   "execution_count": 3,
   "metadata": {},
   "outputs": [],
   "source": [
    "source_hs = '../source/gapminder_hs.csv.gz'\n",
    "source_sitc = '../source/gapminder_sitc.csv.gz'"
   ]
  },
  {
   "cell_type": "code",
   "execution_count": 4,
   "metadata": {},
   "outputs": [],
   "source": [
    "# data1 = pd.read_csv(source_hs)\n",
    "data1 = pd.read_csv(source_hs, dtype={'product_code': 'str'})"
   ]
  },
  {
   "cell_type": "code",
   "execution_count": 5,
   "metadata": {},
   "outputs": [
    {
     "data": {
      "text/plain": [
       "(6254717, 11)"
      ]
     },
     "execution_count": 5,
     "metadata": {},
     "output_type": "execute_result"
    }
   ],
   "source": [
    "data1.shape"
   ]
  },
  {
   "cell_type": "code",
   "execution_count": 6,
   "metadata": {},
   "outputs": [
    {
     "data": {
      "text/html": [
       "<div>\n",
       "<style scoped>\n",
       "    .dataframe tbody tr th:only-of-type {\n",
       "        vertical-align: middle;\n",
       "    }\n",
       "\n",
       "    .dataframe tbody tr th {\n",
       "        vertical-align: top;\n",
       "    }\n",
       "\n",
       "    .dataframe thead th {\n",
       "        text-align: right;\n",
       "    }\n",
       "</style>\n",
       "<table border=\"1\" class=\"dataframe\">\n",
       "  <thead>\n",
       "    <tr style=\"text-align: right;\">\n",
       "      <th></th>\n",
       "      <th>year</th>\n",
       "      <th>cog</th>\n",
       "      <th>distance</th>\n",
       "      <th>export_rca</th>\n",
       "      <th>pci</th>\n",
       "      <th>hs_eci</th>\n",
       "      <th>hs_coi</th>\n",
       "      <th>product_name</th>\n",
       "      <th>product_code</th>\n",
       "      <th>location_name</th>\n",
       "      <th>location_code</th>\n",
       "    </tr>\n",
       "  </thead>\n",
       "  <tbody>\n",
       "    <tr>\n",
       "      <th>0</th>\n",
       "      <td>1995</td>\n",
       "      <td>-0.026350</td>\n",
       "      <td>0.986371</td>\n",
       "      <td>0.130978</td>\n",
       "      <td>0.029435</td>\n",
       "      <td>-0.145284</td>\n",
       "      <td>-1.022883</td>\n",
       "      <td>Horses</td>\n",
       "      <td>0101</td>\n",
       "      <td>Aruba</td>\n",
       "      <td>ABW</td>\n",
       "    </tr>\n",
       "    <tr>\n",
       "      <th>1</th>\n",
       "      <td>1996</td>\n",
       "      <td>-0.023448</td>\n",
       "      <td>0.992841</td>\n",
       "      <td>0.000000</td>\n",
       "      <td>-0.035006</td>\n",
       "      <td>-0.137835</td>\n",
       "      <td>-1.085390</td>\n",
       "      <td>Horses</td>\n",
       "      <td>0101</td>\n",
       "      <td>Aruba</td>\n",
       "      <td>ABW</td>\n",
       "    </tr>\n",
       "    <tr>\n",
       "      <th>2</th>\n",
       "      <td>1997</td>\n",
       "      <td>0.002196</td>\n",
       "      <td>0.993578</td>\n",
       "      <td>0.000000</td>\n",
       "      <td>0.035813</td>\n",
       "      <td>-0.916167</td>\n",
       "      <td>-1.117452</td>\n",
       "      <td>Horses</td>\n",
       "      <td>0101</td>\n",
       "      <td>Aruba</td>\n",
       "      <td>ABW</td>\n",
       "    </tr>\n",
       "    <tr>\n",
       "      <th>3</th>\n",
       "      <td>1998</td>\n",
       "      <td>0.039962</td>\n",
       "      <td>0.985613</td>\n",
       "      <td>0.000000</td>\n",
       "      <td>-0.012857</td>\n",
       "      <td>0.458254</td>\n",
       "      <td>-1.003824</td>\n",
       "      <td>Horses</td>\n",
       "      <td>0101</td>\n",
       "      <td>Aruba</td>\n",
       "      <td>ABW</td>\n",
       "    </tr>\n",
       "    <tr>\n",
       "      <th>4</th>\n",
       "      <td>1999</td>\n",
       "      <td>0.065873</td>\n",
       "      <td>0.984802</td>\n",
       "      <td>0.061158</td>\n",
       "      <td>0.121131</td>\n",
       "      <td>0.060021</td>\n",
       "      <td>-1.071245</td>\n",
       "      <td>Horses</td>\n",
       "      <td>0101</td>\n",
       "      <td>Aruba</td>\n",
       "      <td>ABW</td>\n",
       "    </tr>\n",
       "  </tbody>\n",
       "</table>\n",
       "</div>"
      ],
      "text/plain": [
       "   year       cog  distance  export_rca       pci    hs_eci    hs_coi  \\\n",
       "0  1995 -0.026350  0.986371    0.130978  0.029435 -0.145284 -1.022883   \n",
       "1  1996 -0.023448  0.992841    0.000000 -0.035006 -0.137835 -1.085390   \n",
       "2  1997  0.002196  0.993578    0.000000  0.035813 -0.916167 -1.117452   \n",
       "3  1998  0.039962  0.985613    0.000000 -0.012857  0.458254 -1.003824   \n",
       "4  1999  0.065873  0.984802    0.061158  0.121131  0.060021 -1.071245   \n",
       "\n",
       "  product_name product_code location_name location_code  \n",
       "0       Horses         0101         Aruba           ABW  \n",
       "1       Horses         0101         Aruba           ABW  \n",
       "2       Horses         0101         Aruba           ABW  \n",
       "3       Horses         0101         Aruba           ABW  \n",
       "4       Horses         0101         Aruba           ABW  "
      ]
     },
     "execution_count": 6,
     "metadata": {},
     "output_type": "execute_result"
    }
   ],
   "source": [
    "data1.head()"
   ]
  },
  {
   "cell_type": "code",
   "execution_count": 7,
   "metadata": {},
   "outputs": [
    {
     "data": {
      "text/plain": [
       "524.9168167114258"
      ]
     },
     "execution_count": 7,
     "metadata": {},
     "output_type": "execute_result"
    }
   ],
   "source": [
    "data1.memory_usage().sum() / 1024 / 1024"
   ]
  },
  {
   "cell_type": "code",
   "execution_count": 16,
   "metadata": {
    "scrolled": false
   },
   "outputs": [],
   "source": [
    "for i in data1['location_code'].unique():\n",
    "    if pd.isnull(i):\n",
    "        print('failed')"
   ]
  },
  {
   "cell_type": "code",
   "execution_count": 5,
   "metadata": {},
   "outputs": [],
   "source": [
    "# data2 = pd.read_csv(source_sitc)\n",
    "data2 = pd.read_csv(source_sitc, dtype={'product_code': 'str'})"
   ]
  },
  {
   "cell_type": "code",
   "execution_count": 12,
   "metadata": {},
   "outputs": [
    {
     "data": {
      "text/plain": [
       "745.5780487060547"
      ]
     },
     "execution_count": 12,
     "metadata": {},
     "output_type": "execute_result"
    }
   ],
   "source": [
    "data2.memory_usage().sum() / 1024 / 1024"
   ]
  },
  {
   "cell_type": "code",
   "execution_count": 13,
   "metadata": {},
   "outputs": [
    {
     "data": {
      "text/html": [
       "<div>\n",
       "<style scoped>\n",
       "    .dataframe tbody tr th:only-of-type {\n",
       "        vertical-align: middle;\n",
       "    }\n",
       "\n",
       "    .dataframe tbody tr th {\n",
       "        vertical-align: top;\n",
       "    }\n",
       "\n",
       "    .dataframe thead th {\n",
       "        text-align: right;\n",
       "    }\n",
       "</style>\n",
       "<table border=\"1\" class=\"dataframe\">\n",
       "  <thead>\n",
       "    <tr style=\"text-align: right;\">\n",
       "      <th></th>\n",
       "      <th>year</th>\n",
       "      <th>cog</th>\n",
       "      <th>distance</th>\n",
       "      <th>export_rca</th>\n",
       "      <th>pci</th>\n",
       "      <th>sitc_eci</th>\n",
       "      <th>sitc_coi</th>\n",
       "      <th>product_name</th>\n",
       "      <th>product_code</th>\n",
       "      <th>location_name</th>\n",
       "      <th>location_code</th>\n",
       "    </tr>\n",
       "  </thead>\n",
       "  <tbody>\n",
       "    <tr>\n",
       "      <th>0</th>\n",
       "      <td>1988</td>\n",
       "      <td>-0.094844</td>\n",
       "      <td>0.979881</td>\n",
       "      <td>0.0</td>\n",
       "      <td>-0.226877</td>\n",
       "      <td>1.370849</td>\n",
       "      <td>-0.474975</td>\n",
       "      <td>Animals of the bovine species (including buffa...</td>\n",
       "      <td>0011</td>\n",
       "      <td>Aruba</td>\n",
       "      <td>ABW</td>\n",
       "    </tr>\n",
       "    <tr>\n",
       "      <th>1</th>\n",
       "      <td>1989</td>\n",
       "      <td>-0.131799</td>\n",
       "      <td>0.959964</td>\n",
       "      <td>0.0</td>\n",
       "      <td>-0.672922</td>\n",
       "      <td>0.784267</td>\n",
       "      <td>-0.404974</td>\n",
       "      <td>Animals of the bovine species (including buffa...</td>\n",
       "      <td>0011</td>\n",
       "      <td>Aruba</td>\n",
       "      <td>ABW</td>\n",
       "    </tr>\n",
       "    <tr>\n",
       "      <th>2</th>\n",
       "      <td>1990</td>\n",
       "      <td>-0.142112</td>\n",
       "      <td>0.980740</td>\n",
       "      <td>0.0</td>\n",
       "      <td>-0.597605</td>\n",
       "      <td>-0.430476</td>\n",
       "      <td>-0.887176</td>\n",
       "      <td>Animals of the bovine species (including buffa...</td>\n",
       "      <td>0011</td>\n",
       "      <td>Aruba</td>\n",
       "      <td>ABW</td>\n",
       "    </tr>\n",
       "    <tr>\n",
       "      <th>3</th>\n",
       "      <td>1991</td>\n",
       "      <td>-0.176602</td>\n",
       "      <td>0.987934</td>\n",
       "      <td>0.0</td>\n",
       "      <td>-0.596164</td>\n",
       "      <td>-0.569074</td>\n",
       "      <td>-0.893478</td>\n",
       "      <td>Animals of the bovine species (including buffa...</td>\n",
       "      <td>0011</td>\n",
       "      <td>Aruba</td>\n",
       "      <td>ABW</td>\n",
       "    </tr>\n",
       "    <tr>\n",
       "      <th>4</th>\n",
       "      <td>1992</td>\n",
       "      <td>-0.256202</td>\n",
       "      <td>0.978708</td>\n",
       "      <td>0.0</td>\n",
       "      <td>-0.556728</td>\n",
       "      <td>-0.269096</td>\n",
       "      <td>-0.910005</td>\n",
       "      <td>Animals of the bovine species (including buffa...</td>\n",
       "      <td>0011</td>\n",
       "      <td>Aruba</td>\n",
       "      <td>ABW</td>\n",
       "    </tr>\n",
       "  </tbody>\n",
       "</table>\n",
       "</div>"
      ],
      "text/plain": [
       "   year       cog  distance  export_rca       pci  sitc_eci  sitc_coi  \\\n",
       "0  1988 -0.094844  0.979881         0.0 -0.226877  1.370849 -0.474975   \n",
       "1  1989 -0.131799  0.959964         0.0 -0.672922  0.784267 -0.404974   \n",
       "2  1990 -0.142112  0.980740         0.0 -0.597605 -0.430476 -0.887176   \n",
       "3  1991 -0.176602  0.987934         0.0 -0.596164 -0.569074 -0.893478   \n",
       "4  1992 -0.256202  0.978708         0.0 -0.556728 -0.269096 -0.910005   \n",
       "\n",
       "                                        product_name product_code  \\\n",
       "0  Animals of the bovine species (including buffa...         0011   \n",
       "1  Animals of the bovine species (including buffa...         0011   \n",
       "2  Animals of the bovine species (including buffa...         0011   \n",
       "3  Animals of the bovine species (including buffa...         0011   \n",
       "4  Animals of the bovine species (including buffa...         0011   \n",
       "\n",
       "  location_name location_code  \n",
       "0         Aruba           ABW  \n",
       "1         Aruba           ABW  \n",
       "2         Aruba           ABW  \n",
       "3         Aruba           ABW  \n",
       "4         Aruba           ABW  "
      ]
     },
     "execution_count": 13,
     "metadata": {},
     "output_type": "execute_result"
    }
   ],
   "source": [
    "data2.head()"
   ]
  },
  {
   "cell_type": "code",
   "execution_count": 15,
   "metadata": {},
   "outputs": [],
   "source": [
    "for i in data2['location_code'].unique():\n",
    "    if pd.isnull(i):\n",
    "        print('failed')"
   ]
  },
  {
   "cell_type": "code",
   "execution_count": null,
   "metadata": {},
   "outputs": [],
   "source": []
  },
  {
   "cell_type": "code",
   "execution_count": null,
   "metadata": {},
   "outputs": [],
   "source": []
  },
  {
   "cell_type": "code",
   "execution_count": null,
   "metadata": {},
   "outputs": [],
   "source": [
    "# location entity"
   ]
  },
  {
   "cell_type": "code",
   "execution_count": 23,
   "metadata": {},
   "outputs": [],
   "source": [
    "cols = ['location_code', 'location_name']\n",
    "# combine all location in both files\n",
    "location = pd.concat([data1[cols], data2[cols]], ignore_index=True).drop_duplicates()"
   ]
  },
  {
   "cell_type": "code",
   "execution_count": 24,
   "metadata": {},
   "outputs": [
    {
     "data": {
      "text/html": [
       "<div>\n",
       "<style scoped>\n",
       "    .dataframe tbody tr th:only-of-type {\n",
       "        vertical-align: middle;\n",
       "    }\n",
       "\n",
       "    .dataframe tbody tr th {\n",
       "        vertical-align: top;\n",
       "    }\n",
       "\n",
       "    .dataframe thead th {\n",
       "        text-align: right;\n",
       "    }\n",
       "</style>\n",
       "<table border=\"1\" class=\"dataframe\">\n",
       "  <thead>\n",
       "    <tr style=\"text-align: right;\">\n",
       "      <th></th>\n",
       "      <th>location_code</th>\n",
       "      <th>location_name</th>\n",
       "    </tr>\n",
       "  </thead>\n",
       "  <tbody>\n",
       "  </tbody>\n",
       "</table>\n",
       "</div>"
      ],
      "text/plain": [
       "Empty DataFrame\n",
       "Columns: [location_code, location_name]\n",
       "Index: []"
      ]
     },
     "execution_count": 24,
     "metadata": {},
     "output_type": "execute_result"
    }
   ],
   "source": [
    "location[location.location_code.duplicated()]"
   ]
  },
  {
   "cell_type": "code",
   "execution_count": 25,
   "metadata": {},
   "outputs": [
    {
     "data": {
      "text/plain": [
       "Index(['location_code', 'location_name'], dtype='object')"
      ]
     },
     "execution_count": 25,
     "metadata": {},
     "output_type": "execute_result"
    }
   ],
   "source": [
    "location.columns"
   ]
  },
  {
   "cell_type": "code",
   "execution_count": 26,
   "metadata": {},
   "outputs": [],
   "source": [
    "location.columns = ['location', 'name']\n",
    "location['location'] = location['location'].str.lower()"
   ]
  },
  {
   "cell_type": "code",
   "execution_count": 27,
   "metadata": {},
   "outputs": [
    {
     "data": {
      "text/html": [
       "<div>\n",
       "<style scoped>\n",
       "    .dataframe tbody tr th:only-of-type {\n",
       "        vertical-align: middle;\n",
       "    }\n",
       "\n",
       "    .dataframe tbody tr th {\n",
       "        vertical-align: top;\n",
       "    }\n",
       "\n",
       "    .dataframe thead th {\n",
       "        text-align: right;\n",
       "    }\n",
       "</style>\n",
       "<table border=\"1\" class=\"dataframe\">\n",
       "  <thead>\n",
       "    <tr style=\"text-align: right;\">\n",
       "      <th></th>\n",
       "      <th>location</th>\n",
       "      <th>name</th>\n",
       "    </tr>\n",
       "  </thead>\n",
       "  <tbody>\n",
       "    <tr>\n",
       "      <th>0</th>\n",
       "      <td>abw</td>\n",
       "      <td>Aruba</td>\n",
       "    </tr>\n",
       "    <tr>\n",
       "      <th>27313</th>\n",
       "      <td>afg</td>\n",
       "      <td>Afghanistan</td>\n",
       "    </tr>\n",
       "    <tr>\n",
       "      <th>54635</th>\n",
       "      <td>ago</td>\n",
       "      <td>Angola</td>\n",
       "    </tr>\n",
       "    <tr>\n",
       "      <th>81957</th>\n",
       "      <td>aia</td>\n",
       "      <td>Anguilla</td>\n",
       "    </tr>\n",
       "    <tr>\n",
       "      <th>109270</th>\n",
       "      <td>alb</td>\n",
       "      <td>Albania</td>\n",
       "    </tr>\n",
       "  </tbody>\n",
       "</table>\n",
       "</div>"
      ],
      "text/plain": [
       "       location         name\n",
       "0           abw        Aruba\n",
       "27313       afg  Afghanistan\n",
       "54635       ago       Angola\n",
       "81957       aia     Anguilla\n",
       "109270      alb      Albania"
      ]
     },
     "execution_count": 27,
     "metadata": {},
     "output_type": "execute_result"
    }
   ],
   "source": [
    "location.head()"
   ]
  },
  {
   "cell_type": "code",
   "execution_count": 28,
   "metadata": {},
   "outputs": [],
   "source": [
    "location.to_csv('../../ddf--entities--location.csv', index=False)"
   ]
  },
  {
   "cell_type": "code",
   "execution_count": null,
   "metadata": {},
   "outputs": [],
   "source": []
  },
  {
   "cell_type": "code",
   "execution_count": 13,
   "metadata": {},
   "outputs": [],
   "source": [
    "# HS products"
   ]
  },
  {
   "cell_type": "code",
   "execution_count": 17,
   "metadata": {},
   "outputs": [],
   "source": [
    "cols = ['product_code', 'product_name']\n",
    "hs_prod = data1[cols].drop_duplicates()"
   ]
  },
  {
   "cell_type": "code",
   "execution_count": 22,
   "metadata": {},
   "outputs": [
    {
     "data": {
      "text/html": [
       "<div>\n",
       "<style scoped>\n",
       "    .dataframe tbody tr th:only-of-type {\n",
       "        vertical-align: middle;\n",
       "    }\n",
       "\n",
       "    .dataframe tbody tr th {\n",
       "        vertical-align: top;\n",
       "    }\n",
       "\n",
       "    .dataframe thead th {\n",
       "        text-align: right;\n",
       "    }\n",
       "</style>\n",
       "<table border=\"1\" class=\"dataframe\">\n",
       "  <thead>\n",
       "    <tr style=\"text-align: right;\">\n",
       "      <th></th>\n",
       "      <th>product_code</th>\n",
       "      <th>product_name</th>\n",
       "    </tr>\n",
       "  </thead>\n",
       "  <tbody>\n",
       "    <tr>\n",
       "      <th>0</th>\n",
       "      <td>0101</td>\n",
       "      <td>Horses</td>\n",
       "    </tr>\n",
       "    <tr>\n",
       "      <th>22</th>\n",
       "      <td>0102</td>\n",
       "      <td>Bovine</td>\n",
       "    </tr>\n",
       "    <tr>\n",
       "      <th>44</th>\n",
       "      <td>0103</td>\n",
       "      <td>Swine</td>\n",
       "    </tr>\n",
       "    <tr>\n",
       "      <th>66</th>\n",
       "      <td>0104</td>\n",
       "      <td>Sheep</td>\n",
       "    </tr>\n",
       "    <tr>\n",
       "      <th>88</th>\n",
       "      <td>0105</td>\n",
       "      <td>Fowl</td>\n",
       "    </tr>\n",
       "  </tbody>\n",
       "</table>\n",
       "</div>"
      ],
      "text/plain": [
       "   product_code product_name\n",
       "0          0101       Horses\n",
       "22         0102       Bovine\n",
       "44         0103        Swine\n",
       "66         0104        Sheep\n",
       "88         0105         Fowl"
      ]
     },
     "execution_count": 22,
     "metadata": {},
     "output_type": "execute_result"
    }
   ],
   "source": [
    "hs_prod.head()"
   ]
  },
  {
   "cell_type": "code",
   "execution_count": 23,
   "metadata": {},
   "outputs": [
    {
     "data": {
      "text/plain": [
       "False"
      ]
     },
     "execution_count": 23,
     "metadata": {},
     "output_type": "execute_result"
    }
   ],
   "source": [
    "hs_prod.product_code.hasnans"
   ]
  },
  {
   "cell_type": "code",
   "execution_count": 24,
   "metadata": {},
   "outputs": [],
   "source": [
    "hs_prod.columns = ['product_code_hs', 'name']"
   ]
  },
  {
   "cell_type": "code",
   "execution_count": 25,
   "metadata": {},
   "outputs": [],
   "source": [
    "hs_prod['product_code_hs'] = hs_prod['product_code_hs'].str.lower()"
   ]
  },
  {
   "cell_type": "code",
   "execution_count": 26,
   "metadata": {},
   "outputs": [],
   "source": [
    "hs_prod.to_csv('../../ddf--entities--product_code_hs.csv', index=False)"
   ]
  },
  {
   "cell_type": "code",
   "execution_count": null,
   "metadata": {},
   "outputs": [],
   "source": []
  },
  {
   "cell_type": "code",
   "execution_count": 39,
   "metadata": {},
   "outputs": [],
   "source": [
    "sitc_prod = data2[cols].drop_duplicates()"
   ]
  },
  {
   "cell_type": "code",
   "execution_count": 40,
   "metadata": {},
   "outputs": [
    {
     "data": {
      "text/html": [
       "<div>\n",
       "<style scoped>\n",
       "    .dataframe tbody tr th:only-of-type {\n",
       "        vertical-align: middle;\n",
       "    }\n",
       "\n",
       "    .dataframe tbody tr th {\n",
       "        vertical-align: top;\n",
       "    }\n",
       "\n",
       "    .dataframe thead th {\n",
       "        text-align: right;\n",
       "    }\n",
       "</style>\n",
       "<table border=\"1\" class=\"dataframe\">\n",
       "  <thead>\n",
       "    <tr style=\"text-align: right;\">\n",
       "      <th></th>\n",
       "      <th>product_code</th>\n",
       "      <th>product_name</th>\n",
       "    </tr>\n",
       "  </thead>\n",
       "  <tbody>\n",
       "    <tr>\n",
       "      <th>0</th>\n",
       "      <td>0011</td>\n",
       "      <td>Animals of the bovine species (including buffa...</td>\n",
       "    </tr>\n",
       "    <tr>\n",
       "      <th>29</th>\n",
       "      <td>0012</td>\n",
       "      <td>Sheep and goats, live</td>\n",
       "    </tr>\n",
       "    <tr>\n",
       "      <th>58</th>\n",
       "      <td>0013</td>\n",
       "      <td>Swine, live</td>\n",
       "    </tr>\n",
       "    <tr>\n",
       "      <th>87</th>\n",
       "      <td>0014</td>\n",
       "      <td>Poultry, live</td>\n",
       "    </tr>\n",
       "    <tr>\n",
       "      <th>116</th>\n",
       "      <td>0015</td>\n",
       "      <td>Equine species, live</td>\n",
       "    </tr>\n",
       "  </tbody>\n",
       "</table>\n",
       "</div>"
      ],
      "text/plain": [
       "    product_code                                       product_name\n",
       "0           0011  Animals of the bovine species (including buffa...\n",
       "29          0012                              Sheep and goats, live\n",
       "58          0013                                        Swine, live\n",
       "87          0014                                      Poultry, live\n",
       "116         0015                               Equine species, live"
      ]
     },
     "execution_count": 40,
     "metadata": {},
     "output_type": "execute_result"
    }
   ],
   "source": [
    "sitc_prod.head()"
   ]
  },
  {
   "cell_type": "code",
   "execution_count": 41,
   "metadata": {},
   "outputs": [],
   "source": [
    "sitc_prod.columns = ['product_code_sitc', 'name']"
   ]
  },
  {
   "cell_type": "code",
   "execution_count": 61,
   "metadata": {},
   "outputs": [],
   "source": [
    "sitc_prod['product_code_sitc'] = sitc_prod['product_code_sitc'].str.lower()"
   ]
  },
  {
   "cell_type": "code",
   "execution_count": 62,
   "metadata": {},
   "outputs": [],
   "source": [
    "sitc_prod.to_csv('../../ddf--entities--product_code_sitc.csv', index=False)"
   ]
  },
  {
   "cell_type": "code",
   "execution_count": null,
   "metadata": {},
   "outputs": [],
   "source": []
  },
  {
   "cell_type": "code",
   "execution_count": 44,
   "metadata": {},
   "outputs": [],
   "source": [
    "# Datapoints\n",
    "\n",
    "# - pci        by product, year\n",
    "# - eci        by country, year\n",
    "# - coi        by country, year\n",
    "# - export_rca by product, country, year\n",
    "# - distance   by product, country, year\n",
    "# - cog        by product, country, year"
   ]
  },
  {
   "cell_type": "code",
   "execution_count": 25,
   "metadata": {},
   "outputs": [],
   "source": [
    "# pci\n",
    "cols = ['product_code', 'year', 'pci']\n",
    "pci_hs = data1[cols].copy()\n",
    "pci_sitc = data2[cols].copy()"
   ]
  },
  {
   "cell_type": "code",
   "execution_count": 7,
   "metadata": {},
   "outputs": [
    {
     "data": {
      "text/html": [
       "<div>\n",
       "<style scoped>\n",
       "    .dataframe tbody tr th:only-of-type {\n",
       "        vertical-align: middle;\n",
       "    }\n",
       "\n",
       "    .dataframe tbody tr th {\n",
       "        vertical-align: top;\n",
       "    }\n",
       "\n",
       "    .dataframe thead th {\n",
       "        text-align: right;\n",
       "    }\n",
       "</style>\n",
       "<table border=\"1\" class=\"dataframe\">\n",
       "  <thead>\n",
       "    <tr style=\"text-align: right;\">\n",
       "      <th></th>\n",
       "      <th>product_code</th>\n",
       "      <th>year</th>\n",
       "      <th>pci</th>\n",
       "    </tr>\n",
       "  </thead>\n",
       "  <tbody>\n",
       "    <tr>\n",
       "      <th>0</th>\n",
       "      <td>0101</td>\n",
       "      <td>1995</td>\n",
       "      <td>0.029435</td>\n",
       "    </tr>\n",
       "    <tr>\n",
       "      <th>1</th>\n",
       "      <td>0101</td>\n",
       "      <td>1996</td>\n",
       "      <td>-0.035006</td>\n",
       "    </tr>\n",
       "    <tr>\n",
       "      <th>2</th>\n",
       "      <td>0101</td>\n",
       "      <td>1997</td>\n",
       "      <td>0.035813</td>\n",
       "    </tr>\n",
       "    <tr>\n",
       "      <th>3</th>\n",
       "      <td>0101</td>\n",
       "      <td>1998</td>\n",
       "      <td>-0.012857</td>\n",
       "    </tr>\n",
       "    <tr>\n",
       "      <th>4</th>\n",
       "      <td>0101</td>\n",
       "      <td>1999</td>\n",
       "      <td>0.121131</td>\n",
       "    </tr>\n",
       "  </tbody>\n",
       "</table>\n",
       "</div>"
      ],
      "text/plain": [
       "  product_code  year       pci\n",
       "0         0101  1995  0.029435\n",
       "1         0101  1996 -0.035006\n",
       "2         0101  1997  0.035813\n",
       "3         0101  1998 -0.012857\n",
       "4         0101  1999  0.121131"
      ]
     },
     "execution_count": 7,
     "metadata": {},
     "output_type": "execute_result"
    }
   ],
   "source": [
    "pci_hs.head()"
   ]
  },
  {
   "cell_type": "code",
   "execution_count": 8,
   "metadata": {},
   "outputs": [
    {
     "data": {
      "text/html": [
       "<div>\n",
       "<style scoped>\n",
       "    .dataframe tbody tr th:only-of-type {\n",
       "        vertical-align: middle;\n",
       "    }\n",
       "\n",
       "    .dataframe tbody tr th {\n",
       "        vertical-align: top;\n",
       "    }\n",
       "\n",
       "    .dataframe thead th {\n",
       "        text-align: right;\n",
       "    }\n",
       "</style>\n",
       "<table border=\"1\" class=\"dataframe\">\n",
       "  <thead>\n",
       "    <tr style=\"text-align: right;\">\n",
       "      <th></th>\n",
       "      <th>product_code</th>\n",
       "      <th>year</th>\n",
       "      <th>pci</th>\n",
       "    </tr>\n",
       "  </thead>\n",
       "  <tbody>\n",
       "    <tr>\n",
       "      <th>0</th>\n",
       "      <td>0101</td>\n",
       "      <td>1995</td>\n",
       "      <td>0.029435</td>\n",
       "    </tr>\n",
       "    <tr>\n",
       "      <th>27313</th>\n",
       "      <td>0101</td>\n",
       "      <td>1995</td>\n",
       "      <td>0.029435</td>\n",
       "    </tr>\n",
       "    <tr>\n",
       "      <th>54635</th>\n",
       "      <td>0101</td>\n",
       "      <td>1995</td>\n",
       "      <td>0.029435</td>\n",
       "    </tr>\n",
       "    <tr>\n",
       "      <th>81957</th>\n",
       "      <td>0101</td>\n",
       "      <td>1995</td>\n",
       "      <td>0.029435</td>\n",
       "    </tr>\n",
       "    <tr>\n",
       "      <th>109270</th>\n",
       "      <td>0101</td>\n",
       "      <td>1995</td>\n",
       "      <td>0.029435</td>\n",
       "    </tr>\n",
       "  </tbody>\n",
       "</table>\n",
       "</div>"
      ],
      "text/plain": [
       "       product_code  year       pci\n",
       "0              0101  1995  0.029435\n",
       "27313          0101  1995  0.029435\n",
       "54635          0101  1995  0.029435\n",
       "81957          0101  1995  0.029435\n",
       "109270         0101  1995  0.029435"
      ]
     },
     "execution_count": 8,
     "metadata": {},
     "output_type": "execute_result"
    }
   ],
   "source": [
    "pci_hs.sort_values(by=['product_code', 'year']).head()  # all country have same values for given product/year"
   ]
  },
  {
   "cell_type": "code",
   "execution_count": 26,
   "metadata": {},
   "outputs": [],
   "source": [
    "pci_hs.columns = ['product_code_hs', 'year', 'pci']\n",
    "pci_hs = pci_hs.drop_duplicates(subset=['product_code_hs', 'year'])\n",
    "pci_hs['product_code_hs'] = pci_hs['product_code_hs'].str.lower()\n",
    "pci_hs['pci'] = pci_hs['pci'].map(ff)\n",
    "pci_hs.to_csv('../../ddf--datapoints--pci--by--'+'--'.join(list(pci_hs.columns[:-1]))+'.csv', index=False)"
   ]
  },
  {
   "cell_type": "code",
   "execution_count": 50,
   "metadata": {},
   "outputs": [
    {
     "data": {
      "text/plain": [
       "1243"
      ]
     },
     "execution_count": 50,
     "metadata": {},
     "output_type": "execute_result"
    }
   ],
   "source": [
    "# pci_hs.product_code_hs.unique().size"
   ]
  },
  {
   "cell_type": "code",
   "execution_count": 52,
   "metadata": {},
   "outputs": [
    {
     "data": {
      "text/plain": [
       "787"
      ]
     },
     "execution_count": 52,
     "metadata": {},
     "output_type": "execute_result"
    }
   ],
   "source": [
    "# pci_sitc.product_code.unique().size"
   ]
  },
  {
   "cell_type": "code",
   "execution_count": 53,
   "metadata": {},
   "outputs": [],
   "source": [
    "#!mkdir ../../pci_hs && mkdir ../../pci_sitc"
   ]
  },
  {
   "cell_type": "code",
   "execution_count": null,
   "metadata": {},
   "outputs": [],
   "source": []
  },
  {
   "cell_type": "code",
   "execution_count": 10,
   "metadata": {},
   "outputs": [],
   "source": [
    "def to_csv(df, g, t, d):\n",
    "    path = osp.join(d, t.format(g))\n",
    "    df.to_csv(path, index=False)"
   ]
  },
  {
   "cell_type": "code",
   "execution_count": 11,
   "metadata": {},
   "outputs": [],
   "source": [
    "# df = pci_hs\n",
    "# groupby = 'product_code_hs'\n",
    "# p = '../../pci_hs'\n",
    "\n",
    "# for g, df_ in df.groupby(groupby):\n",
    "#     t = 'ddf--datapoints--pci--by--' + groupby + '-{}--year.csv'\n",
    "#     df__ = df_.dropna(subset=['pci']).copy()\n",
    "#     df__ = df__.drop_duplicates(subset=[groupby, 'year'])\n",
    "#     if df__.empty:\n",
    "#         continue\n",
    "#     df__[groupby] = df__[groupby].str.lower()\n",
    "#     to_csv(df__, g, t, p)"
   ]
  },
  {
   "cell_type": "code",
   "execution_count": 28,
   "metadata": {},
   "outputs": [],
   "source": [
    "pci_sitc.columns = ['product_code_sitc', 'year', 'pci']\n",
    "pci_sitc = pci_sitc.drop_duplicates(subset=['product_code_sitc', 'year'])\n",
    "pci_sitc['product_code_sitc'] = pci_sitc['product_code_sitc'].str.lower()\n",
    "pci_sitc['pci'] = pci_sitc['pci'].map(ff)\n",
    "pci_sitc.to_csv('../../ddf--datapoints--pci--by--'+'--'.join(list(pci_sitc.columns[:-1]))+'.csv', index=False)"
   ]
  },
  {
   "cell_type": "code",
   "execution_count": 67,
   "metadata": {},
   "outputs": [],
   "source": [
    "# df = pci_sitc\n",
    "# groupby = 'product_code_sitc'\n",
    "# p = '../../pci_sitc'\n",
    "\n",
    "# for g, df_ in df.groupby(groupby):\n",
    "#     t = 'ddf--datapoints--pci--by--' + groupby + '-{}--year.csv'\n",
    "#     df__ = df_.dropna(subset=['pci']).copy()\n",
    "#     if df__.empty:\n",
    "#         continue\n",
    "#     df__[groupby] = df__[groupby].str.lower()\n",
    "#     to_csv(df__, g, t, p)"
   ]
  },
  {
   "cell_type": "code",
   "execution_count": null,
   "metadata": {},
   "outputs": [],
   "source": []
  },
  {
   "cell_type": "code",
   "execution_count": 73,
   "metadata": {},
   "outputs": [],
   "source": [
    "# eci\n",
    "\n",
    "# as we can see below:\n",
    "# eci/coi are same for a year, no matter which product"
   ]
  },
  {
   "cell_type": "code",
   "execution_count": 71,
   "metadata": {
    "scrolled": true
   },
   "outputs": [
    {
     "data": {
      "text/html": [
       "<div>\n",
       "<style scoped>\n",
       "    .dataframe tbody tr th:only-of-type {\n",
       "        vertical-align: middle;\n",
       "    }\n",
       "\n",
       "    .dataframe tbody tr th {\n",
       "        vertical-align: top;\n",
       "    }\n",
       "\n",
       "    .dataframe thead th {\n",
       "        text-align: right;\n",
       "    }\n",
       "</style>\n",
       "<table border=\"1\" class=\"dataframe\">\n",
       "  <thead>\n",
       "    <tr style=\"text-align: right;\">\n",
       "      <th></th>\n",
       "      <th>year</th>\n",
       "      <th>cog</th>\n",
       "      <th>distance</th>\n",
       "      <th>export_rca</th>\n",
       "      <th>pci</th>\n",
       "      <th>hs_eci</th>\n",
       "      <th>hs_coi</th>\n",
       "      <th>product_name</th>\n",
       "      <th>product_code</th>\n",
       "      <th>location_name</th>\n",
       "      <th>location_code</th>\n",
       "    </tr>\n",
       "  </thead>\n",
       "  <tbody>\n",
       "    <tr>\n",
       "      <th>0</th>\n",
       "      <td>1995</td>\n",
       "      <td>-0.026350</td>\n",
       "      <td>0.986371</td>\n",
       "      <td>0.130978</td>\n",
       "      <td>0.029435</td>\n",
       "      <td>-0.145284</td>\n",
       "      <td>-1.022883</td>\n",
       "      <td>Horses</td>\n",
       "      <td>0101</td>\n",
       "      <td>Aruba</td>\n",
       "      <td>ABW</td>\n",
       "    </tr>\n",
       "    <tr>\n",
       "      <th>22</th>\n",
       "      <td>1995</td>\n",
       "      <td>-0.090248</td>\n",
       "      <td>0.987265</td>\n",
       "      <td>0.000000</td>\n",
       "      <td>0.010989</td>\n",
       "      <td>-0.145284</td>\n",
       "      <td>-1.022883</td>\n",
       "      <td>Bovine</td>\n",
       "      <td>0102</td>\n",
       "      <td>Aruba</td>\n",
       "      <td>ABW</td>\n",
       "    </tr>\n",
       "    <tr>\n",
       "      <th>44</th>\n",
       "      <td>1995</td>\n",
       "      <td>-0.013347</td>\n",
       "      <td>0.992648</td>\n",
       "      <td>0.000000</td>\n",
       "      <td>0.089716</td>\n",
       "      <td>-0.145284</td>\n",
       "      <td>-1.022883</td>\n",
       "      <td>Swine</td>\n",
       "      <td>0103</td>\n",
       "      <td>Aruba</td>\n",
       "      <td>ABW</td>\n",
       "    </tr>\n",
       "    <tr>\n",
       "      <th>66</th>\n",
       "      <td>1995</td>\n",
       "      <td>-0.157109</td>\n",
       "      <td>0.989216</td>\n",
       "      <td>0.000000</td>\n",
       "      <td>-0.559563</td>\n",
       "      <td>-0.145284</td>\n",
       "      <td>-1.022883</td>\n",
       "      <td>Sheep</td>\n",
       "      <td>0104</td>\n",
       "      <td>Aruba</td>\n",
       "      <td>ABW</td>\n",
       "    </tr>\n",
       "    <tr>\n",
       "      <th>88</th>\n",
       "      <td>1995</td>\n",
       "      <td>-0.089947</td>\n",
       "      <td>0.991364</td>\n",
       "      <td>0.000000</td>\n",
       "      <td>-0.033183</td>\n",
       "      <td>-0.145284</td>\n",
       "      <td>-1.022883</td>\n",
       "      <td>Fowl</td>\n",
       "      <td>0105</td>\n",
       "      <td>Aruba</td>\n",
       "      <td>ABW</td>\n",
       "    </tr>\n",
       "  </tbody>\n",
       "</table>\n",
       "</div>"
      ],
      "text/plain": [
       "    year       cog  distance  export_rca       pci    hs_eci    hs_coi  \\\n",
       "0   1995 -0.026350  0.986371    0.130978  0.029435 -0.145284 -1.022883   \n",
       "22  1995 -0.090248  0.987265    0.000000  0.010989 -0.145284 -1.022883   \n",
       "44  1995 -0.013347  0.992648    0.000000  0.089716 -0.145284 -1.022883   \n",
       "66  1995 -0.157109  0.989216    0.000000 -0.559563 -0.145284 -1.022883   \n",
       "88  1995 -0.089947  0.991364    0.000000 -0.033183 -0.145284 -1.022883   \n",
       "\n",
       "   product_name product_code location_name location_code  \n",
       "0        Horses         0101         Aruba           ABW  \n",
       "22       Bovine         0102         Aruba           ABW  \n",
       "44        Swine         0103         Aruba           ABW  \n",
       "66        Sheep         0104         Aruba           ABW  \n",
       "88         Fowl         0105         Aruba           ABW  "
      ]
     },
     "execution_count": 71,
     "metadata": {},
     "output_type": "execute_result"
    }
   ],
   "source": [
    "data1[(data1.year == 1995) & (data1.location_code == 'ABW')].head()"
   ]
  },
  {
   "cell_type": "code",
   "execution_count": 72,
   "metadata": {},
   "outputs": [
    {
     "data": {
      "text/html": [
       "<div>\n",
       "<style scoped>\n",
       "    .dataframe tbody tr th:only-of-type {\n",
       "        vertical-align: middle;\n",
       "    }\n",
       "\n",
       "    .dataframe tbody tr th {\n",
       "        vertical-align: top;\n",
       "    }\n",
       "\n",
       "    .dataframe thead th {\n",
       "        text-align: right;\n",
       "    }\n",
       "</style>\n",
       "<table border=\"1\" class=\"dataframe\">\n",
       "  <thead>\n",
       "    <tr style=\"text-align: right;\">\n",
       "      <th></th>\n",
       "      <th>year</th>\n",
       "      <th>cog</th>\n",
       "      <th>distance</th>\n",
       "      <th>export_rca</th>\n",
       "      <th>pci</th>\n",
       "      <th>sitc_eci</th>\n",
       "      <th>sitc_coi</th>\n",
       "      <th>product_name</th>\n",
       "      <th>product_code</th>\n",
       "      <th>location_name</th>\n",
       "      <th>location_code</th>\n",
       "    </tr>\n",
       "  </thead>\n",
       "  <tbody>\n",
       "    <tr>\n",
       "      <th>7</th>\n",
       "      <td>1995</td>\n",
       "      <td>-0.104940</td>\n",
       "      <td>0.979272</td>\n",
       "      <td>0.000000</td>\n",
       "      <td>-0.095885</td>\n",
       "      <td>-0.497029</td>\n",
       "      <td>-1.102927</td>\n",
       "      <td>Animals of the bovine species (including buffa...</td>\n",
       "      <td>0011</td>\n",
       "      <td>Aruba</td>\n",
       "      <td>ABW</td>\n",
       "    </tr>\n",
       "    <tr>\n",
       "      <th>36</th>\n",
       "      <td>1995</td>\n",
       "      <td>-0.187256</td>\n",
       "      <td>0.980351</td>\n",
       "      <td>0.000000</td>\n",
       "      <td>-0.594714</td>\n",
       "      <td>-0.497029</td>\n",
       "      <td>-1.102927</td>\n",
       "      <td>Sheep and goats, live</td>\n",
       "      <td>0012</td>\n",
       "      <td>Aruba</td>\n",
       "      <td>ABW</td>\n",
       "    </tr>\n",
       "    <tr>\n",
       "      <th>65</th>\n",
       "      <td>1995</td>\n",
       "      <td>0.066685</td>\n",
       "      <td>0.984902</td>\n",
       "      <td>0.000000</td>\n",
       "      <td>0.128867</td>\n",
       "      <td>-0.497029</td>\n",
       "      <td>-1.102927</td>\n",
       "      <td>Swine, live</td>\n",
       "      <td>0013</td>\n",
       "      <td>Aruba</td>\n",
       "      <td>ABW</td>\n",
       "    </tr>\n",
       "    <tr>\n",
       "      <th>94</th>\n",
       "      <td>1995</td>\n",
       "      <td>-0.048455</td>\n",
       "      <td>0.985503</td>\n",
       "      <td>0.000000</td>\n",
       "      <td>-0.058842</td>\n",
       "      <td>-0.497029</td>\n",
       "      <td>-1.102927</td>\n",
       "      <td>Poultry, live</td>\n",
       "      <td>0014</td>\n",
       "      <td>Aruba</td>\n",
       "      <td>ABW</td>\n",
       "    </tr>\n",
       "    <tr>\n",
       "      <th>123</th>\n",
       "      <td>1995</td>\n",
       "      <td>0.002895</td>\n",
       "      <td>0.980246</td>\n",
       "      <td>0.121011</td>\n",
       "      <td>-0.004677</td>\n",
       "      <td>-0.497029</td>\n",
       "      <td>-1.102927</td>\n",
       "      <td>Equine species, live</td>\n",
       "      <td>0015</td>\n",
       "      <td>Aruba</td>\n",
       "      <td>ABW</td>\n",
       "    </tr>\n",
       "  </tbody>\n",
       "</table>\n",
       "</div>"
      ],
      "text/plain": [
       "     year       cog  distance  export_rca       pci  sitc_eci  sitc_coi  \\\n",
       "7    1995 -0.104940  0.979272    0.000000 -0.095885 -0.497029 -1.102927   \n",
       "36   1995 -0.187256  0.980351    0.000000 -0.594714 -0.497029 -1.102927   \n",
       "65   1995  0.066685  0.984902    0.000000  0.128867 -0.497029 -1.102927   \n",
       "94   1995 -0.048455  0.985503    0.000000 -0.058842 -0.497029 -1.102927   \n",
       "123  1995  0.002895  0.980246    0.121011 -0.004677 -0.497029 -1.102927   \n",
       "\n",
       "                                          product_name product_code  \\\n",
       "7    Animals of the bovine species (including buffa...         0011   \n",
       "36                               Sheep and goats, live         0012   \n",
       "65                                         Swine, live         0013   \n",
       "94                                       Poultry, live         0014   \n",
       "123                               Equine species, live         0015   \n",
       "\n",
       "    location_name location_code  \n",
       "7           Aruba           ABW  \n",
       "36          Aruba           ABW  \n",
       "65          Aruba           ABW  \n",
       "94          Aruba           ABW  \n",
       "123         Aruba           ABW  "
      ]
     },
     "execution_count": 72,
     "metadata": {},
     "output_type": "execute_result"
    }
   ],
   "source": [
    "data2[(data2.year == 1995) & (data2.location_code == 'ABW')].head()"
   ]
  },
  {
   "cell_type": "code",
   "execution_count": null,
   "metadata": {},
   "outputs": [],
   "source": []
  },
  {
   "cell_type": "code",
   "execution_count": 74,
   "metadata": {},
   "outputs": [],
   "source": [
    "cols = ['location_code', 'year', 'hs_eci']\n",
    "\n",
    "hs_eci = data1[cols].groupby(['location_code', 'year']).first()"
   ]
  },
  {
   "cell_type": "code",
   "execution_count": 76,
   "metadata": {},
   "outputs": [],
   "source": [
    "hs_eci = hs_eci.reset_index()\n",
    "hs_eci.columns = ['location', 'year', 'hs_eci']\n",
    "hs_eci.location = hs_eci.location.str.lower()"
   ]
  },
  {
   "cell_type": "code",
   "execution_count": 77,
   "metadata": {},
   "outputs": [
    {
     "data": {
      "text/html": [
       "<div>\n",
       "<style scoped>\n",
       "    .dataframe tbody tr th:only-of-type {\n",
       "        vertical-align: middle;\n",
       "    }\n",
       "\n",
       "    .dataframe tbody tr th {\n",
       "        vertical-align: top;\n",
       "    }\n",
       "\n",
       "    .dataframe thead th {\n",
       "        text-align: right;\n",
       "    }\n",
       "</style>\n",
       "<table border=\"1\" class=\"dataframe\">\n",
       "  <thead>\n",
       "    <tr style=\"text-align: right;\">\n",
       "      <th></th>\n",
       "      <th>location</th>\n",
       "      <th>year</th>\n",
       "      <th>hs_eci</th>\n",
       "    </tr>\n",
       "  </thead>\n",
       "  <tbody>\n",
       "    <tr>\n",
       "      <th>0</th>\n",
       "      <td>abw</td>\n",
       "      <td>1995</td>\n",
       "      <td>-0.145284</td>\n",
       "    </tr>\n",
       "    <tr>\n",
       "      <th>1</th>\n",
       "      <td>abw</td>\n",
       "      <td>1996</td>\n",
       "      <td>-0.137835</td>\n",
       "    </tr>\n",
       "    <tr>\n",
       "      <th>2</th>\n",
       "      <td>abw</td>\n",
       "      <td>1997</td>\n",
       "      <td>-0.916167</td>\n",
       "    </tr>\n",
       "    <tr>\n",
       "      <th>3</th>\n",
       "      <td>abw</td>\n",
       "      <td>1998</td>\n",
       "      <td>0.458254</td>\n",
       "    </tr>\n",
       "    <tr>\n",
       "      <th>4</th>\n",
       "      <td>abw</td>\n",
       "      <td>1999</td>\n",
       "      <td>0.060021</td>\n",
       "    </tr>\n",
       "  </tbody>\n",
       "</table>\n",
       "</div>"
      ],
      "text/plain": [
       "  location  year    hs_eci\n",
       "0      abw  1995 -0.145284\n",
       "1      abw  1996 -0.137835\n",
       "2      abw  1997 -0.916167\n",
       "3      abw  1998  0.458254\n",
       "4      abw  1999  0.060021"
      ]
     },
     "execution_count": 77,
     "metadata": {},
     "output_type": "execute_result"
    }
   ],
   "source": [
    "hs_eci.head()"
   ]
  },
  {
   "cell_type": "code",
   "execution_count": 79,
   "metadata": {},
   "outputs": [],
   "source": [
    "hs_eci.to_csv('../../ddf--datapoints--hs_eci--by--location--year.csv', index=False)"
   ]
  },
  {
   "cell_type": "code",
   "execution_count": null,
   "metadata": {},
   "outputs": [],
   "source": []
  },
  {
   "cell_type": "code",
   "execution_count": 81,
   "metadata": {},
   "outputs": [],
   "source": [
    "cols = ['location_code', 'year', 'sitc_eci']\n",
    "\n",
    "sitc_eci = data2[cols].groupby(['location_code', 'year']).first()"
   ]
  },
  {
   "cell_type": "code",
   "execution_count": 91,
   "metadata": {},
   "outputs": [],
   "source": [
    "sitc_eci = sitc_eci.reset_index()\n",
    "sitc_eci.columns = ['location', 'year', 'sitc_eci']\n",
    "sitc_eci.location = sitc_eci.location.str.lower()"
   ]
  },
  {
   "cell_type": "code",
   "execution_count": 92,
   "metadata": {},
   "outputs": [],
   "source": [
    "sitc_eci.to_csv('../../ddf--datapoints--sitc_eci--by--location--year.csv', index=False)"
   ]
  },
  {
   "cell_type": "code",
   "execution_count": null,
   "metadata": {},
   "outputs": [],
   "source": []
  },
  {
   "cell_type": "code",
   "execution_count": null,
   "metadata": {},
   "outputs": [],
   "source": [
    "# coi"
   ]
  },
  {
   "cell_type": "code",
   "execution_count": 84,
   "metadata": {},
   "outputs": [],
   "source": [
    "cols = ['location_code', 'year', 'hs_coi']\n",
    "\n",
    "hs_coi = data1[cols].groupby(['location_code', 'year']).first()"
   ]
  },
  {
   "cell_type": "code",
   "execution_count": 88,
   "metadata": {},
   "outputs": [],
   "source": [
    "hs_coi = hs_coi.reset_index()\n",
    "hs_coi.columns = ['location', 'year', 'hs_coi']\n",
    "hs_coi.location = hs_coi.location.str.lower()"
   ]
  },
  {
   "cell_type": "code",
   "execution_count": 89,
   "metadata": {},
   "outputs": [
    {
     "data": {
      "text/html": [
       "<div>\n",
       "<style scoped>\n",
       "    .dataframe tbody tr th:only-of-type {\n",
       "        vertical-align: middle;\n",
       "    }\n",
       "\n",
       "    .dataframe tbody tr th {\n",
       "        vertical-align: top;\n",
       "    }\n",
       "\n",
       "    .dataframe thead th {\n",
       "        text-align: right;\n",
       "    }\n",
       "</style>\n",
       "<table border=\"1\" class=\"dataframe\">\n",
       "  <thead>\n",
       "    <tr style=\"text-align: right;\">\n",
       "      <th></th>\n",
       "      <th>location</th>\n",
       "      <th>year</th>\n",
       "      <th>hs_coi</th>\n",
       "    </tr>\n",
       "  </thead>\n",
       "  <tbody>\n",
       "    <tr>\n",
       "      <th>0</th>\n",
       "      <td>abw</td>\n",
       "      <td>1995</td>\n",
       "      <td>-1.022883</td>\n",
       "    </tr>\n",
       "    <tr>\n",
       "      <th>1</th>\n",
       "      <td>abw</td>\n",
       "      <td>1996</td>\n",
       "      <td>-1.085390</td>\n",
       "    </tr>\n",
       "    <tr>\n",
       "      <th>2</th>\n",
       "      <td>abw</td>\n",
       "      <td>1997</td>\n",
       "      <td>-1.117452</td>\n",
       "    </tr>\n",
       "    <tr>\n",
       "      <th>3</th>\n",
       "      <td>abw</td>\n",
       "      <td>1998</td>\n",
       "      <td>-1.003824</td>\n",
       "    </tr>\n",
       "    <tr>\n",
       "      <th>4</th>\n",
       "      <td>abw</td>\n",
       "      <td>1999</td>\n",
       "      <td>-1.071245</td>\n",
       "    </tr>\n",
       "  </tbody>\n",
       "</table>\n",
       "</div>"
      ],
      "text/plain": [
       "  location  year    hs_coi\n",
       "0      abw  1995 -1.022883\n",
       "1      abw  1996 -1.085390\n",
       "2      abw  1997 -1.117452\n",
       "3      abw  1998 -1.003824\n",
       "4      abw  1999 -1.071245"
      ]
     },
     "execution_count": 89,
     "metadata": {},
     "output_type": "execute_result"
    }
   ],
   "source": [
    "hs_coi.head()"
   ]
  },
  {
   "cell_type": "code",
   "execution_count": 90,
   "metadata": {},
   "outputs": [],
   "source": [
    "hs_coi.to_csv('../../ddf--datapoints--hs_coi--by--location--year.csv', index=False)"
   ]
  },
  {
   "cell_type": "code",
   "execution_count": null,
   "metadata": {},
   "outputs": [],
   "source": []
  },
  {
   "cell_type": "code",
   "execution_count": 27,
   "metadata": {},
   "outputs": [],
   "source": [
    "cols = ['location_code', 'year', 'sitc_coi']\n",
    "\n",
    "sitc_coi = data2[cols].groupby(['location_code', 'year']).first()"
   ]
  },
  {
   "cell_type": "code",
   "execution_count": 28,
   "metadata": {},
   "outputs": [],
   "source": [
    "sitc_coi = sitc_coi.reset_index()\n",
    "sitc_coi.columns = ['location', 'year', 'sitc_coi']\n",
    "sitc_coi.location = sitc_coi.location.str.lower()"
   ]
  },
  {
   "cell_type": "code",
   "execution_count": 29,
   "metadata": {},
   "outputs": [],
   "source": [
    "sitc_coi.to_csv('../../ddf--datapoints--sitc_coi--by--location--year.csv', index=False)"
   ]
  },
  {
   "cell_type": "code",
   "execution_count": null,
   "metadata": {},
   "outputs": [],
   "source": []
  },
  {
   "cell_type": "code",
   "execution_count": null,
   "metadata": {},
   "outputs": [],
   "source": []
  },
  {
   "cell_type": "code",
   "execution_count": 96,
   "metadata": {},
   "outputs": [],
   "source": [
    "# export_rca"
   ]
  },
  {
   "cell_type": "code",
   "execution_count": 97,
   "metadata": {},
   "outputs": [],
   "source": [
    "cols = ['product_code', 'location_code', 'year', 'export_rca']\n",
    "hs_erca = data1[cols].copy()"
   ]
  },
  {
   "cell_type": "code",
   "execution_count": 99,
   "metadata": {},
   "outputs": [],
   "source": [
    "hs_erca.columns = ['product_code_hs', 'location', 'year', 'export_rca']\n",
    "hs_erca['product_code_hs'] = hs_erca['product_code_hs'].str.lower()\n",
    "hs_erca['location'] = hs_erca['location'].str.lower()"
   ]
  },
  {
   "cell_type": "code",
   "execution_count": 100,
   "metadata": {},
   "outputs": [
    {
     "data": {
      "text/html": [
       "<div>\n",
       "<style scoped>\n",
       "    .dataframe tbody tr th:only-of-type {\n",
       "        vertical-align: middle;\n",
       "    }\n",
       "\n",
       "    .dataframe tbody tr th {\n",
       "        vertical-align: top;\n",
       "    }\n",
       "\n",
       "    .dataframe thead th {\n",
       "        text-align: right;\n",
       "    }\n",
       "</style>\n",
       "<table border=\"1\" class=\"dataframe\">\n",
       "  <thead>\n",
       "    <tr style=\"text-align: right;\">\n",
       "      <th></th>\n",
       "      <th>product_code_hs</th>\n",
       "      <th>location</th>\n",
       "      <th>year</th>\n",
       "      <th>export_rca</th>\n",
       "    </tr>\n",
       "  </thead>\n",
       "  <tbody>\n",
       "    <tr>\n",
       "      <th>0</th>\n",
       "      <td>0101</td>\n",
       "      <td>abw</td>\n",
       "      <td>1995</td>\n",
       "      <td>0.130978</td>\n",
       "    </tr>\n",
       "    <tr>\n",
       "      <th>1</th>\n",
       "      <td>0101</td>\n",
       "      <td>abw</td>\n",
       "      <td>1996</td>\n",
       "      <td>0.000000</td>\n",
       "    </tr>\n",
       "    <tr>\n",
       "      <th>2</th>\n",
       "      <td>0101</td>\n",
       "      <td>abw</td>\n",
       "      <td>1997</td>\n",
       "      <td>0.000000</td>\n",
       "    </tr>\n",
       "    <tr>\n",
       "      <th>3</th>\n",
       "      <td>0101</td>\n",
       "      <td>abw</td>\n",
       "      <td>1998</td>\n",
       "      <td>0.000000</td>\n",
       "    </tr>\n",
       "    <tr>\n",
       "      <th>4</th>\n",
       "      <td>0101</td>\n",
       "      <td>abw</td>\n",
       "      <td>1999</td>\n",
       "      <td>0.061158</td>\n",
       "    </tr>\n",
       "  </tbody>\n",
       "</table>\n",
       "</div>"
      ],
      "text/plain": [
       "  product_code_hs location  year  export_rca\n",
       "0            0101      abw  1995    0.130978\n",
       "1            0101      abw  1996    0.000000\n",
       "2            0101      abw  1997    0.000000\n",
       "3            0101      abw  1998    0.000000\n",
       "4            0101      abw  1999    0.061158"
      ]
     },
     "execution_count": 100,
     "metadata": {},
     "output_type": "execute_result"
    }
   ],
   "source": [
    "hs_erca.head()"
   ]
  },
  {
   "cell_type": "code",
   "execution_count": 101,
   "metadata": {},
   "outputs": [],
   "source": [
    "!mkdir ../../export_rca_hs && mkdir ../../export_rca_sitc"
   ]
  },
  {
   "cell_type": "code",
   "execution_count": 106,
   "metadata": {},
   "outputs": [],
   "source": [
    "df = hs_erca\n",
    "groupby = 'product_code_hs'\n",
    "p = '../../export_rca_hs'\n",
    "\n",
    "for g, df_ in df.groupby(groupby):\n",
    "    t = 'ddf--datapoints--export_rca--by--' + groupby + '-{}--location--year.csv'\n",
    "    df__ = df_.dropna(subset=['export_rca']).copy()\n",
    "    if df__.empty:\n",
    "        continue\n",
    "    # df__[groupby] = df__[groupby].str.lower()\n",
    "    df__['export_rca'] = df__['export_rca'].map(ff)\n",
    "    to_csv(df__, g, t, p)"
   ]
  },
  {
   "cell_type": "code",
   "execution_count": null,
   "metadata": {},
   "outputs": [],
   "source": []
  },
  {
   "cell_type": "code",
   "execution_count": 107,
   "metadata": {},
   "outputs": [],
   "source": [
    "cols = ['product_code', 'location_code', 'year', 'export_rca']\n",
    "sitc_erca = data2[cols].copy()"
   ]
  },
  {
   "cell_type": "code",
   "execution_count": 108,
   "metadata": {},
   "outputs": [],
   "source": [
    "sitc_erca.columns = ['product_code_sitc', 'location', 'year', 'export_rca']\n",
    "sitc_erca['product_code_sitc'] = sitc_erca['product_code_sitc'].str.lower()\n",
    "sitc_erca['location'] = sitc_erca['location'].str.lower()"
   ]
  },
  {
   "cell_type": "code",
   "execution_count": 109,
   "metadata": {},
   "outputs": [
    {
     "data": {
      "text/html": [
       "<div>\n",
       "<style scoped>\n",
       "    .dataframe tbody tr th:only-of-type {\n",
       "        vertical-align: middle;\n",
       "    }\n",
       "\n",
       "    .dataframe tbody tr th {\n",
       "        vertical-align: top;\n",
       "    }\n",
       "\n",
       "    .dataframe thead th {\n",
       "        text-align: right;\n",
       "    }\n",
       "</style>\n",
       "<table border=\"1\" class=\"dataframe\">\n",
       "  <thead>\n",
       "    <tr style=\"text-align: right;\">\n",
       "      <th></th>\n",
       "      <th>product_code_sitc</th>\n",
       "      <th>location</th>\n",
       "      <th>year</th>\n",
       "      <th>export_rca</th>\n",
       "    </tr>\n",
       "  </thead>\n",
       "  <tbody>\n",
       "    <tr>\n",
       "      <th>0</th>\n",
       "      <td>0011</td>\n",
       "      <td>abw</td>\n",
       "      <td>1988</td>\n",
       "      <td>0.0</td>\n",
       "    </tr>\n",
       "    <tr>\n",
       "      <th>1</th>\n",
       "      <td>0011</td>\n",
       "      <td>abw</td>\n",
       "      <td>1989</td>\n",
       "      <td>0.0</td>\n",
       "    </tr>\n",
       "    <tr>\n",
       "      <th>2</th>\n",
       "      <td>0011</td>\n",
       "      <td>abw</td>\n",
       "      <td>1990</td>\n",
       "      <td>0.0</td>\n",
       "    </tr>\n",
       "    <tr>\n",
       "      <th>3</th>\n",
       "      <td>0011</td>\n",
       "      <td>abw</td>\n",
       "      <td>1991</td>\n",
       "      <td>0.0</td>\n",
       "    </tr>\n",
       "    <tr>\n",
       "      <th>4</th>\n",
       "      <td>0011</td>\n",
       "      <td>abw</td>\n",
       "      <td>1992</td>\n",
       "      <td>0.0</td>\n",
       "    </tr>\n",
       "  </tbody>\n",
       "</table>\n",
       "</div>"
      ],
      "text/plain": [
       "  product_code_sitc location  year  export_rca\n",
       "0              0011      abw  1988         0.0\n",
       "1              0011      abw  1989         0.0\n",
       "2              0011      abw  1990         0.0\n",
       "3              0011      abw  1991         0.0\n",
       "4              0011      abw  1992         0.0"
      ]
     },
     "execution_count": 109,
     "metadata": {},
     "output_type": "execute_result"
    }
   ],
   "source": [
    "sitc_erca.head()"
   ]
  },
  {
   "cell_type": "code",
   "execution_count": 110,
   "metadata": {},
   "outputs": [],
   "source": [
    "df = sitc_erca\n",
    "groupby = 'product_code_sitc'\n",
    "p = '../../export_rca_sitc'\n",
    "\n",
    "for g, df_ in df.groupby(groupby):\n",
    "    t = 'ddf--datapoints--export_rca--by--' + groupby + '-{}--location--year.csv'\n",
    "    df__ = df_.dropna(subset=['export_rca']).copy()\n",
    "    if df__.empty:\n",
    "        continue\n",
    "    # df__[groupby] = df__[groupby].str.lower()\n",
    "    df__['export_rca'] = df__['export_rca'].map(ff)\n",
    "    to_csv(df__, g, t, p)"
   ]
  },
  {
   "cell_type": "code",
   "execution_count": null,
   "metadata": {},
   "outputs": [],
   "source": []
  },
  {
   "cell_type": "code",
   "execution_count": 146,
   "metadata": {},
   "outputs": [],
   "source": [
    "# clean up memory..."
   ]
  },
  {
   "cell_type": "code",
   "execution_count": 137,
   "metadata": {},
   "outputs": [
    {
     "name": "stdout",
     "output_type": "stream",
     "text": [
      "Once deleted, variables cannot be recovered. Proceed (y/[n])? y\n"
     ]
    }
   ],
   "source": [
    "%reset"
   ]
  },
  {
   "cell_type": "code",
   "execution_count": null,
   "metadata": {},
   "outputs": [],
   "source": []
  },
  {
   "cell_type": "code",
   "execution_count": null,
   "metadata": {},
   "outputs": [],
   "source": []
  },
  {
   "cell_type": "code",
   "execution_count": null,
   "metadata": {},
   "outputs": [],
   "source": [
    "# distance"
   ]
  },
  {
   "cell_type": "code",
   "execution_count": 150,
   "metadata": {},
   "outputs": [],
   "source": [
    "!mkdir ../../distance_hs && mkdir ../../distance_sitc"
   ]
  },
  {
   "cell_type": "code",
   "execution_count": 147,
   "metadata": {},
   "outputs": [],
   "source": [
    "cols = ['product_code', 'location_code', 'year', 'distance']\n",
    "hs_distance = data1[cols].copy()"
   ]
  },
  {
   "cell_type": "code",
   "execution_count": 148,
   "metadata": {},
   "outputs": [],
   "source": [
    "df = hs_distance\n",
    "col = 'distance'\n",
    "\n",
    "df.columns = ['product_code_hs', 'location', 'year', col]\n",
    "df['product_code_hs'] = df['product_code_hs'].str.lower()\n",
    "df['location'] = df['location'].str.lower()"
   ]
  },
  {
   "cell_type": "code",
   "execution_count": 151,
   "metadata": {},
   "outputs": [],
   "source": [
    "groupby = 'product_code_hs'\n",
    "p = '../../distance_hs'\n",
    "\n",
    "for g, df_ in df.groupby(groupby):\n",
    "    t = 'ddf--datapoints--' + col + '--by--' + groupby + '-{}--location--year.csv'\n",
    "    df__ = df_.dropna(subset=[col]).copy()\n",
    "    if df__.empty:\n",
    "        continue\n",
    "    # df__[groupby] = df__[groupby].str.lower()\n",
    "    df__[col] = df__[col].map(ff)\n",
    "    to_csv(df__, g, t, p)"
   ]
  },
  {
   "cell_type": "code",
   "execution_count": null,
   "metadata": {},
   "outputs": [],
   "source": []
  },
  {
   "cell_type": "code",
   "execution_count": 15,
   "metadata": {},
   "outputs": [],
   "source": [
    "cols = ['product_code', 'location_code', 'year', 'distance']\n",
    "sitc_distance = data2[cols].copy()"
   ]
  },
  {
   "cell_type": "code",
   "execution_count": 16,
   "metadata": {},
   "outputs": [],
   "source": [
    "df = sitc_distance\n",
    "col = 'distance'\n",
    "groupby = 'product_code_sitc'\n",
    "\n",
    "df.columns = [groupby, 'location', 'year', col]\n",
    "df[groupby] = df[groupby].str.lower()\n",
    "df['location'] = df['location'].str.lower()"
   ]
  },
  {
   "cell_type": "code",
   "execution_count": 17,
   "metadata": {},
   "outputs": [],
   "source": [
    "p = '../../distance_sitc'\n",
    "\n",
    "for g, df_ in df.groupby(groupby):\n",
    "    t = 'ddf--datapoints--' + col + '--by--' + groupby + '-{}--location--year.csv'\n",
    "    df__ = df_.dropna(subset=[col]).copy()\n",
    "    if df__.empty:\n",
    "        continue\n",
    "    # df__[groupby] = df__[groupby].str.lower()\n",
    "    df__[col] = df__[col].map(ff)\n",
    "    to_csv(df__, g, t, p)"
   ]
  },
  {
   "cell_type": "code",
   "execution_count": 155,
   "metadata": {},
   "outputs": [
    {
     "name": "stdout",
     "output_type": "stream",
     "text": [
      "Once deleted, variables cannot be recovered. Proceed (y/[n])?  y\n"
     ]
    }
   ],
   "source": [
    "%reset_selective hs_distance"
   ]
  },
  {
   "cell_type": "code",
   "execution_count": 156,
   "metadata": {},
   "outputs": [
    {
     "name": "stdout",
     "output_type": "stream",
     "text": [
      "Once deleted, variables cannot be recovered. Proceed (y/[n])?  y\n"
     ]
    }
   ],
   "source": [
    "%reset_selective sitc_distance"
   ]
  },
  {
   "cell_type": "code",
   "execution_count": null,
   "metadata": {},
   "outputs": [],
   "source": []
  },
  {
   "cell_type": "code",
   "execution_count": null,
   "metadata": {},
   "outputs": [],
   "source": []
  },
  {
   "cell_type": "code",
   "execution_count": null,
   "metadata": {},
   "outputs": [],
   "source": [
    "# cog"
   ]
  },
  {
   "cell_type": "code",
   "execution_count": 159,
   "metadata": {},
   "outputs": [],
   "source": [
    "!mkdir ../../cog_hs && mkdir ../../cog_sitc"
   ]
  },
  {
   "cell_type": "code",
   "execution_count": 157,
   "metadata": {},
   "outputs": [],
   "source": [
    "cols = ['product_code', 'location_code', 'year', 'cog']\n",
    "hs_cog = data1[cols].copy()"
   ]
  },
  {
   "cell_type": "code",
   "execution_count": 158,
   "metadata": {},
   "outputs": [],
   "source": [
    "df = hs_cog\n",
    "col = 'cog'\n",
    "groupby = 'product_code_hs'\n",
    "\n",
    "df.columns = [groupby, 'location', 'year', col]\n",
    "df[groupby] = df[groupby].str.lower()\n",
    "df['location'] = df['location'].str.lower()"
   ]
  },
  {
   "cell_type": "code",
   "execution_count": 160,
   "metadata": {},
   "outputs": [],
   "source": [
    "p = '../../cog_hs'\n",
    "\n",
    "for g, df_ in df.groupby(groupby):\n",
    "    t = 'ddf--datapoints--' + col + '--by--' + groupby + '-{}--location--year.csv'\n",
    "    df__ = df_.dropna(subset=[col]).copy()\n",
    "    if df__.empty:\n",
    "        continue\n",
    "    # df__[groupby] = df__[groupby].str.lower()\n",
    "    df__[col] = df__[col].map(ff)\n",
    "    to_csv(df__, g, t, p)"
   ]
  },
  {
   "cell_type": "code",
   "execution_count": null,
   "metadata": {},
   "outputs": [],
   "source": []
  },
  {
   "cell_type": "code",
   "execution_count": 8,
   "metadata": {},
   "outputs": [],
   "source": [
    "cols = ['product_code', 'location_code', 'year', 'cog']\n",
    "sitc_cog = data2[cols].copy()"
   ]
  },
  {
   "cell_type": "code",
   "execution_count": 11,
   "metadata": {},
   "outputs": [],
   "source": [
    "df = sitc_cog\n",
    "col = 'cog'\n",
    "groupby = 'product_code_sitc'\n",
    "\n",
    "df.columns = [groupby, 'location', 'year', col]\n",
    "df[groupby] = df[groupby].str.lower()\n",
    "df['location'] = df['location'].str.lower()"
   ]
  },
  {
   "cell_type": "code",
   "execution_count": 14,
   "metadata": {},
   "outputs": [],
   "source": [
    "p = '../../cog_sitc'\n",
    "\n",
    "for g, df_ in df.groupby(groupby):\n",
    "    t = 'ddf--datapoints--' + col + '--by--' + groupby + '-{}--location--year.csv'\n",
    "    df__ = df_.dropna(subset=[col]).copy()\n",
    "    if df__.empty:\n",
    "        continue\n",
    "    # df__[groupby] = df__[groupby].str.lower()\n",
    "    df__[col] = df__[col].map(ff)\n",
    "    to_csv(df__, g, t, p)"
   ]
  },
  {
   "cell_type": "code",
   "execution_count": null,
   "metadata": {},
   "outputs": [],
   "source": []
  },
  {
   "cell_type": "code",
   "execution_count": 164,
   "metadata": {},
   "outputs": [],
   "source": [
    "# concepts"
   ]
  },
  {
   "cell_type": "code",
   "execution_count": null,
   "metadata": {},
   "outputs": [],
   "source": [
    "import yaml"
   ]
  },
  {
   "cell_type": "code",
   "execution_count": 165,
   "metadata": {},
   "outputs": [
    {
     "data": {
      "text/plain": [
       "Index(['year', 'cog', 'distance', 'export_rca', 'pci', 'hs_eci', 'hs_coi',\n",
       "       'product_name', 'product_code', 'location_name', 'location_code'],\n",
       "      dtype='object')"
      ]
     },
     "execution_count": 165,
     "metadata": {},
     "output_type": "execute_result"
    }
   ],
   "source": [
    "data1.columns"
   ]
  },
  {
   "cell_type": "code",
   "execution_count": 166,
   "metadata": {},
   "outputs": [
    {
     "data": {
      "text/plain": [
       "Index(['year', 'cog', 'distance', 'export_rca', 'pci', 'sitc_eci', 'sitc_coi',\n",
       "       'product_name', 'product_code', 'location_name', 'location_code'],\n",
       "      dtype='object')"
      ]
     },
     "execution_count": 166,
     "metadata": {},
     "output_type": "execute_result"
    }
   ],
   "source": [
    "data2.columns"
   ]
  },
  {
   "cell_type": "code",
   "execution_count": 169,
   "metadata": {},
   "outputs": [],
   "source": [
    "measures = ['cog', 'distance', 'export_rca', 'pci', 'hs_eci', 'hs_coi', 'sitc_eci', 'sitc_coi']\n",
    "entities = ['location', 'product_code_hs', 'product_code_sitc']\n",
    "time = ['year']\n",
    "string = ['name', 'domain']"
   ]
  },
  {
   "cell_type": "code",
   "execution_count": 172,
   "metadata": {},
   "outputs": [],
   "source": [
    "cdf = pd.DataFrame([*measures, *entities, *time, *string], columns=['concept']).set_index('concept')"
   ]
  },
  {
   "cell_type": "code",
   "execution_count": 173,
   "metadata": {},
   "outputs": [],
   "source": [
    "cdf.loc[measures, 'concept_type'] = 'measure'\n",
    "cdf.loc[entities, 'concept_type'] = 'entity_domain'\n",
    "cdf.loc[time, 'concept_type'] = 'time'\n",
    "cdf.loc[string, 'concept_type'] = 'string'"
   ]
  },
  {
   "cell_type": "code",
   "execution_count": 175,
   "metadata": {},
   "outputs": [],
   "source": [
    "cdf['domain'] = None"
   ]
  },
  {
   "cell_type": "code",
   "execution_count": 176,
   "metadata": {},
   "outputs": [],
   "source": [
    "cdf['name'] = None"
   ]
  },
  {
   "cell_type": "code",
   "execution_count": 177,
   "metadata": {},
   "outputs": [
    {
     "data": {
      "text/html": [
       "<div>\n",
       "<style scoped>\n",
       "    .dataframe tbody tr th:only-of-type {\n",
       "        vertical-align: middle;\n",
       "    }\n",
       "\n",
       "    .dataframe tbody tr th {\n",
       "        vertical-align: top;\n",
       "    }\n",
       "\n",
       "    .dataframe thead th {\n",
       "        text-align: right;\n",
       "    }\n",
       "</style>\n",
       "<table border=\"1\" class=\"dataframe\">\n",
       "  <thead>\n",
       "    <tr style=\"text-align: right;\">\n",
       "      <th></th>\n",
       "      <th>concept_type</th>\n",
       "      <th>domain</th>\n",
       "      <th>name</th>\n",
       "    </tr>\n",
       "    <tr>\n",
       "      <th>concept</th>\n",
       "      <th></th>\n",
       "      <th></th>\n",
       "      <th></th>\n",
       "    </tr>\n",
       "  </thead>\n",
       "  <tbody>\n",
       "    <tr>\n",
       "      <th>cog</th>\n",
       "      <td>measure</td>\n",
       "      <td>None</td>\n",
       "      <td>None</td>\n",
       "    </tr>\n",
       "    <tr>\n",
       "      <th>distance</th>\n",
       "      <td>measure</td>\n",
       "      <td>None</td>\n",
       "      <td>None</td>\n",
       "    </tr>\n",
       "    <tr>\n",
       "      <th>export_rca</th>\n",
       "      <td>measure</td>\n",
       "      <td>None</td>\n",
       "      <td>None</td>\n",
       "    </tr>\n",
       "    <tr>\n",
       "      <th>pci</th>\n",
       "      <td>measure</td>\n",
       "      <td>None</td>\n",
       "      <td>None</td>\n",
       "    </tr>\n",
       "    <tr>\n",
       "      <th>hs_eci</th>\n",
       "      <td>measure</td>\n",
       "      <td>None</td>\n",
       "      <td>None</td>\n",
       "    </tr>\n",
       "    <tr>\n",
       "      <th>hs_coi</th>\n",
       "      <td>measure</td>\n",
       "      <td>None</td>\n",
       "      <td>None</td>\n",
       "    </tr>\n",
       "    <tr>\n",
       "      <th>sitc_eci</th>\n",
       "      <td>measure</td>\n",
       "      <td>None</td>\n",
       "      <td>None</td>\n",
       "    </tr>\n",
       "    <tr>\n",
       "      <th>sitc_coi</th>\n",
       "      <td>measure</td>\n",
       "      <td>None</td>\n",
       "      <td>None</td>\n",
       "    </tr>\n",
       "    <tr>\n",
       "      <th>location</th>\n",
       "      <td>entity_domain</td>\n",
       "      <td>None</td>\n",
       "      <td>None</td>\n",
       "    </tr>\n",
       "    <tr>\n",
       "      <th>product_code_hs</th>\n",
       "      <td>entity_domain</td>\n",
       "      <td>None</td>\n",
       "      <td>None</td>\n",
       "    </tr>\n",
       "    <tr>\n",
       "      <th>product_code_sitc</th>\n",
       "      <td>entity_domain</td>\n",
       "      <td>None</td>\n",
       "      <td>None</td>\n",
       "    </tr>\n",
       "    <tr>\n",
       "      <th>year</th>\n",
       "      <td>time</td>\n",
       "      <td>None</td>\n",
       "      <td>None</td>\n",
       "    </tr>\n",
       "    <tr>\n",
       "      <th>name</th>\n",
       "      <td>string</td>\n",
       "      <td>None</td>\n",
       "      <td>None</td>\n",
       "    </tr>\n",
       "    <tr>\n",
       "      <th>domain</th>\n",
       "      <td>string</td>\n",
       "      <td>None</td>\n",
       "      <td>None</td>\n",
       "    </tr>\n",
       "  </tbody>\n",
       "</table>\n",
       "</div>"
      ],
      "text/plain": [
       "                    concept_type domain  name\n",
       "concept                                      \n",
       "cog                      measure   None  None\n",
       "distance                 measure   None  None\n",
       "export_rca               measure   None  None\n",
       "pci                      measure   None  None\n",
       "hs_eci                   measure   None  None\n",
       "hs_coi                   measure   None  None\n",
       "sitc_eci                 measure   None  None\n",
       "sitc_coi                 measure   None  None\n",
       "location           entity_domain   None  None\n",
       "product_code_hs    entity_domain   None  None\n",
       "product_code_sitc  entity_domain   None  None\n",
       "year                        time   None  None\n",
       "name                      string   None  None\n",
       "domain                    string   None  None"
      ]
     },
     "execution_count": 177,
     "metadata": {},
     "output_type": "execute_result"
    }
   ],
   "source": [
    "cdf"
   ]
  },
  {
   "cell_type": "code",
   "execution_count": 178,
   "metadata": {},
   "outputs": [],
   "source": [
    "cdf.to_csv('../../ddf--concepts.csv')"
   ]
  },
  {
   "cell_type": "code",
   "execution_count": null,
   "metadata": {},
   "outputs": [],
   "source": []
  },
  {
   "cell_type": "code",
   "execution_count": 179,
   "metadata": {},
   "outputs": [
    {
     "name": "stdout",
     "output_type": "stream",
     "text": [
      "Once deleted, variables cannot be recovered. Proceed (y/[n])? y\n"
     ]
    }
   ],
   "source": [
    "%reset"
   ]
  },
  {
   "cell_type": "code",
   "execution_count": null,
   "metadata": {},
   "outputs": [],
   "source": []
  },
  {
   "cell_type": "code",
   "execution_count": null,
   "metadata": {},
   "outputs": [],
   "source": []
  }
 ],
 "metadata": {
  "kernelspec": {
   "display_name": "Python 3",
   "language": "python",
   "name": "python3"
  },
  "language_info": {
   "codemirror_mode": {
    "name": "ipython",
    "version": 3
   },
   "file_extension": ".py",
   "mimetype": "text/x-python",
   "name": "python",
   "nbconvert_exporter": "python",
   "pygments_lexer": "ipython3",
   "version": "3.6.5"
  }
 },
 "nbformat": 4,
 "nbformat_minor": 2
}
